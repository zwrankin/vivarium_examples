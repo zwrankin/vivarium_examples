{
 "cells": [
  {
   "cell_type": "markdown",
   "metadata": {},
   "source": [
    "# Interactive Simulation using Vivarium\n",
    "\n",
    "## Debug\n",
    "- Moviewriter (is it just not capable on Windows? I don't get subprocess bug)\n",
    "- package (why can't I import vivarium_examples?)\n",
    "- Why can't I use the 'simulation_end' event? \n",
    "- How to control population size? \n",
    "\n",
    "## TODO - \n",
    "- How to ensure multiple flocks? One way is that they'll only flock with boids of the same color\n",
    "- should each individual and/or cluster (but clusters aren't consisent) get some sort of acceleration that can be toggled at the cluster level? (maybe I should just be affecting acceleration, NOT velocity)\n",
    "- Maximum flock size? (either absolute, or set a maximum number of flocks). Yes, that allows you to avoid the color dilemma, but still control flocks (and more logically, based on proximity)\n",
    "    - should I actually be doing NNearestNeighbors, or some clustering algorithm that will give me distinct groups (rather than getting all birds within X distance). Is there an implemetnation \n",
    "- Flocking weighted by distance\n",
    "- Personal space\n",
    "- Velocity as a value pipeline, then a flocking component that uses neighbor pipeline to change value pipeline\n",
    "\n",
    "\n",
    "## Long term - \n",
    "- be able to run distributed runner\n",
    "    - get the movies across parameter space\n",
    "    - get infection curves, with uncertainty "
   ]
  },
  {
   "cell_type": "code",
   "execution_count": 1,
   "metadata": {},
   "outputs": [],
   "source": [
    "import numpy as np\n",
    "import pandas as pd\n",
    "\n",
    "from scipy import spatial\n",
    "\n",
    "import matplotlib.pyplot as plt\n",
    "\n",
    "from IPython.display import HTML"
   ]
  },
  {
   "cell_type": "code",
   "execution_count": 263,
   "metadata": {},
   "outputs": [],
   "source": [
    "\n",
    "class Population:\n",
    "\n",
    "    configuration_defaults = {\n",
    "        'boids': {\n",
    "            'population_size': 100,\n",
    "            'colors': ['red', 'blue'],\n",
    "        }\n",
    "    }\n",
    "\n",
    "    def setup(self, builder):\n",
    "        self.colors = builder.configuration.boids.colors\n",
    "\n",
    "        columns_created = ['color', 'entrance_time']\n",
    "        builder.population.initializes_simulants(self.on_initialize_simulants, columns_created)\n",
    "        self.population_view = builder.population.get_view(columns_created)\n",
    "\n",
    "    def on_initialize_simulants(self, pop_data):\n",
    "        new_population = pd.DataFrame({\n",
    "            'color': np.random.choice(self.colors, len(pop_data.index)),\n",
    "            'entrance_time': pop_data.creation_time,\n",
    "        }, index=pop_data.index)\n",
    "        self.population_view.update(new_population)\n",
    "\n",
    "        \n",
    "class Location:\n",
    "\n",
    "    configuration_defaults = {\n",
    "        'location': {\n",
    "            'max_velocity': 20,\n",
    "            'width': 1000,   # Width of our field\n",
    "            'height': 1000,  # Height of our field\n",
    "        }\n",
    "    }\n",
    "\n",
    "    def setup(self, builder):\n",
    "        self.width = builder.configuration.location.width\n",
    "        self.height = builder.configuration.location.height\n",
    "        self.max_velocity = builder.configuration.location.max_velocity\n",
    "\n",
    "        columns_created = ['x', 'vx', 'y', 'vy']\n",
    "        builder.population.initializes_simulants(self.on_create_simulants, columns_created)\n",
    "        builder.event.register_listener('time_step', self.on_time_step)\n",
    "        self.population_view = builder.population.get_view(columns_created)\n",
    "\n",
    "    def on_create_simulants(self, pop_data):\n",
    "        count = len(pop_data.index)\n",
    "        # Start clustered in the center with small random velocities\n",
    "        new_population = pd.DataFrame({\n",
    "            'x': np.random.uniform(0, self.width, count), # self.width * (0.4 + 0.2 * np.random.random(count)),\n",
    "            'y': np.random.uniform(0, self.height, count), # self.height * (0.4 + 0.2 * np.random.random(count)),\n",
    "            'vx': self.max_velocity * np.random.randn(count), # -0.5 + np.random.random(count),\n",
    "            'vy': self.max_velocity * np.random.randn(count), # -0.5 + np.random.random(count),\n",
    "        }, index= pop_data.index)\n",
    "        self.population_view.update(new_population)\n",
    "        \n",
    "    def on_time_step(self, event):\n",
    "        pop = self.population_view.get(event.index)\n",
    "        \n",
    "        # Limit velocity\n",
    "        pop.loc[pop.vx > self.max_velocity, 'vx'] = self.max_velocity\n",
    "        pop.loc[pop.vx < -self.max_velocity, 'vx'] = -self.max_velocity\n",
    "        pop.loc[pop.vy > self.max_velocity, 'vy'] = self.max_velocity\n",
    "        pop.loc[pop.vy < -self.max_velocity, 'vy'] = -self.max_velocity\n",
    "        \n",
    "        pop['x'] = pop.apply(lambda row: self.move_boid(row.x, row.vx, self.width), axis=1)\n",
    "        pop['vx'] = pop.apply(lambda row: self.avoid_wall(row.x, row.vx, self.width), axis=1)\n",
    "        pop['y'] = pop.apply(lambda row: self.move_boid(row.y, row.vy, self.height), axis=1)\n",
    "        pop['vy'] = pop.apply(lambda row: self.avoid_wall(row.y, row.vy, self.height), axis=1)\n",
    "        \n",
    "        self.population_view.update(pop)\n",
    "        \n",
    "        \n",
    "        \n",
    "    def move_boid(self, position, velocity, limit):\n",
    "        if in_boundary(position, velocity, limit):\n",
    "            return position + velocity\n",
    "        else: \n",
    "            return position\n",
    "        \n",
    "    def avoid_wall(self, position, velocity, limit):\n",
    "        if in_boundary(position, velocity, limit):\n",
    "            return velocity\n",
    "        else: \n",
    "            return velocity * -1\n",
    "        \n",
    "def in_boundary(position, velocity, limit):\n",
    "    return (position + velocity < limit) & (position + velocity > 0)\n",
    "        \n",
    "        \n",
    "# class Neighbors:\n",
    "\n",
    "#     configuration_defaults = {\n",
    "#         'neighbors': {\n",
    "#             'radius': 10\n",
    "#         }\n",
    "#     }\n",
    "\n",
    "#     def setup(self, builder):\n",
    "#         self.radius = builder.configuration.neighbors.radius\n",
    "\n",
    "#         self.neighbors_calculated = False\n",
    "#         self._neighbors = pd.Series()\n",
    "#         self.neighbors = builder.value.register_value_producer('neighbors', source=self.get_neighbors)\n",
    "\n",
    "#         builder.population.initializes_simulants(self.on_create_simulants)\n",
    "#         self.population_view = builder.population.get_view(['x', 'y'])\n",
    "\n",
    "#         builder.event.register_listener('time_step', self.on_time_step)\n",
    "\n",
    "#     def on_create_simulants(self, pop_data):\n",
    "#         self._neighbors = pd.Series([[]] * len(pop_data.index), index=pop_data.index)\n",
    "\n",
    "#     def on_time_step(self, event):\n",
    "#         self.neighbors_calculated = False\n",
    "\n",
    "#     def get_neighbors(self, index):\n",
    "#         if not self.neighbors_calculated:\n",
    "#             self.calculate_neighbors()\n",
    "#         return self._neighbors[index]\n",
    "\n",
    "#     def calculate_neighbors(self):\n",
    "#         # Reset our list of neighbors\n",
    "#         pop = self.population_view.get(self._neighbors.index)\n",
    "#         self._neighbors = pd.Series([[]] * len(pop), index=pop.index)\n",
    "\n",
    "#         tree = spatial.KDTree(pop)\n",
    "\n",
    "#         # Iterate over each pair of simulates that are close together.\n",
    "#         for boid_1, boid_2 in tree.query_pairs(self.radius):\n",
    "#             # .iloc is used because query_pairs uses 0,1,... indexing instead of pandas.index\n",
    "#             self._neighbors.iloc[boid_1].append(self._neighbors.index[boid_2])\n",
    "#             self._neighbors.iloc[boid_2].append(self._neighbors.index[boid_1])"
   ]
  },
  {
   "cell_type": "code",
   "execution_count": 191,
   "metadata": {},
   "outputs": [],
   "source": [
    "class Flock:\n",
    "    \n",
    "    configuration_defaults = {\n",
    "        'neighbors': {\n",
    "            'radius': 10\n",
    "        }\n",
    "    }\n",
    "    \n",
    "    def setup(self, builder):\n",
    "        self.radius = builder.configuration.neighbors.radius\n",
    "\n",
    "        builder.event.register_listener('time_step', self.on_time_step, priority=0)\n",
    "        self.population_view = builder.population.get_view(['x', 'y', 'vx', 'vy'])\n",
    "\n",
    "    def on_create_simulants(self, pop_data):\n",
    "        count = len(pop_data.index)\n",
    "        # Start clustered in the center with small random velocities\n",
    "        new_population = pd.DataFrame({\n",
    "            'x': self.width * (0.4 + 0.2 * np.random.random(count)),\n",
    "            'y': self.width * (0.4 + 0.2 * np.random.random(count)),\n",
    "            'vx': 10 * np.random.randn(count), # -0.5 + np.random.random(count),\n",
    "            'vy': 10 * np.random.randn(count), # -0.5 + np.random.random(count),\n",
    "        }, index= pop_data.index)\n",
    "        self.population_view.update(new_population)\n",
    "        \n",
    "    def on_time_step(self, event):\n",
    "        pop = self.population_view.get(event.index)\n",
    "\n",
    "        self._neighbors = pd.Series([[]] * len(pop), index=pop.index)\n",
    "\n",
    "        tree = spatial.KDTree(pop[['x', 'y']])\n",
    "\n",
    "        # Iterate over each pair of simulants that are close together.\n",
    "        for boid_1, boid_2 in tree.query_pairs(self.radius):\n",
    "            # .iloc is used because query_pairs uses 0,1,... indexing instead of pandas.index\n",
    "#             if pop.iloc[boid_1].color == pop.iloc[boid_2].color:\n",
    "            self._neighbors.iloc[boid_1].append(self._neighbors.index[boid_2])\n",
    "            self._neighbors.iloc[boid_2].append(self._neighbors.index[boid_1])\n",
    "\n",
    "        for i in event.index:\n",
    "            neighbors = self._neighbors[i]\n",
    "            # RULE 1: Match velocity \n",
    "            pop.iloc[i].vx += 0.2 * pop.iloc[neighbors].vx.mean()\n",
    "            pop.iloc[i].vy += 0.2 * pop.iloc[neighbors].vy.mean()\n",
    "        \n",
    "            # RULE 2: velocity toward center of mass \n",
    "            pop.iloc[i].vx += 0.2 * (pop.iloc[neighbors].x.mean() - pop.iloc[i].x)\n",
    "            pop.iloc[i].vy += 0.2 * (pop.iloc[neighbors].y.mean() - pop.iloc[i].y)\n",
    "        \n",
    "        self.population_view.update(pop)"
   ]
  },
  {
   "cell_type": "code",
   "execution_count": 430,
   "metadata": {},
   "outputs": [],
   "source": [
    "from sklearn.cluster import KMeans\n",
    "\n",
    "class FlockKMeans:\n",
    "    \n",
    "    configuration_defaults = {\n",
    "        'neighbors': {\n",
    "            'n_neighbors': 8\n",
    "        }\n",
    "    }\n",
    "    \n",
    "    def setup(self, builder):\n",
    "        self.n_neighbors = builder.configuration.neighbors.n_neighbors\n",
    "        self.kmeans = KMeans(self.n_neighbors, random_state=0)\n",
    "        columns_created = ['cluster']\n",
    "        builder.population.initializes_simulants(self.on_initialize_simulants, columns_created)\n",
    "        builder.event.register_listener('time_step', self.on_time_step, priority=0)\n",
    "        self.population_view = builder.population.get_view(['x', 'y', 'vx', 'vy'] + columns_created)\n",
    "    \n",
    "    def on_initialize_simulants(self, pop_data):\n",
    "        # Can't seem to use other columns during initialization\n",
    "#         pop = self.population_view.get(pop_data.index)\n",
    "#         self.kmeans.fit(pop[['x', 'y']])\n",
    "#         pop['cluster'] = self.kmeans.labels_\n",
    "        pop = pd.DataFrame({\n",
    "            'cluster': [1] * len(pop_data.index),\n",
    "            })\n",
    "        self.population_view.update(pop)\n",
    "\n",
    "    def on_time_step(self, event):\n",
    "        pop = self.population_view.get(event.index)\n",
    "        self.kmeans.fit(pop[['x', 'y']])\n",
    "        pop['cluster'] = self.kmeans.labels_\n",
    "        pop.cluster = pop.cluster.astype('int64')  # picky picky Vivarium\n",
    "        clusters = pop.groupby('cluster')[['x', 'y', 'vx', 'vy']].mean()\n",
    "        \n",
    "        # RULE 2: velocity toward center of mass \n",
    "        pop['vx'] = pop.apply(lambda row: 1 * row.vx + 0.05 * (clusters.iloc[int(row.cluster)].x - row.x),\n",
    "                             axis=1)\n",
    "        pop['vy'] = pop.apply(lambda row: 1 * row.vy + 0.05 * (clusters.iloc[int(row.cluster)].y - row.y),\n",
    "                             axis=1)\n",
    "                              \n",
    "        # RULE 1: Match velocity \n",
    "        pop['vx'] = pop.apply(lambda row: 1 * row.vx + 0.1 * clusters.iloc[int(row.cluster)].vx,\n",
    "                             axis=1)\n",
    "        pop['vy'] = pop.apply(lambda row: 1 * row.vy + 0.1 * clusters.iloc[int(row.cluster)].vy,\n",
    "                             axis=1)\n",
    "        \n",
    "        # RULE 3: give cluster some acceleration (for now, same for x and y)\n",
    "        clusters['a'] = 5*np.random.randn(self.n_neighbors)\n",
    "        pop['vx'] = pop.apply(lambda row: row.vx + clusters.iloc[int(row.cluster)].a, axis=1)\n",
    "        pop['vy'] = pop.apply(lambda row: row.vy + clusters.iloc[int(row.cluster)].a, axis=1)\n",
    "          \n",
    "        self.population_view.update(pop)"
   ]
  },
  {
   "cell_type": "code",
   "execution_count": 362,
   "metadata": {},
   "outputs": [
    {
     "data": {
      "text/html": [
       "<div>\n",
       "<style scoped>\n",
       "    .dataframe tbody tr th:only-of-type {\n",
       "        vertical-align: middle;\n",
       "    }\n",
       "\n",
       "    .dataframe tbody tr th {\n",
       "        vertical-align: top;\n",
       "    }\n",
       "\n",
       "    .dataframe thead th {\n",
       "        text-align: right;\n",
       "    }\n",
       "</style>\n",
       "<table border=\"1\" class=\"dataframe\">\n",
       "  <thead>\n",
       "    <tr style=\"text-align: right;\">\n",
       "      <th></th>\n",
       "      <th>tracked</th>\n",
       "      <th>color</th>\n",
       "      <th>entrance_time</th>\n",
       "      <th>y</th>\n",
       "      <th>vx</th>\n",
       "      <th>vy</th>\n",
       "      <th>x</th>\n",
       "      <th>cluster</th>\n",
       "    </tr>\n",
       "  </thead>\n",
       "  <tbody>\n",
       "    <tr>\n",
       "      <th>9</th>\n",
       "      <td>True</td>\n",
       "      <td>red</td>\n",
       "      <td>2005-07-01</td>\n",
       "      <td>669.478784</td>\n",
       "      <td>0.354663</td>\n",
       "      <td>-20.294969</td>\n",
       "      <td>49.530515</td>\n",
       "      <td>1</td>\n",
       "    </tr>\n",
       "    <tr>\n",
       "      <th>15</th>\n",
       "      <td>True</td>\n",
       "      <td>blue</td>\n",
       "      <td>2005-07-01</td>\n",
       "      <td>50.224109</td>\n",
       "      <td>-16.108323</td>\n",
       "      <td>-30.415655</td>\n",
       "      <td>554.183316</td>\n",
       "      <td>1</td>\n",
       "    </tr>\n",
       "  </tbody>\n",
       "</table>\n",
       "</div>"
      ],
      "text/plain": [
       "    tracked color entrance_time           y         vx         vy           x  \\\n",
       "9      True   red    2005-07-01  669.478784   0.354663 -20.294969   49.530515   \n",
       "15     True  blue    2005-07-01   50.224109 -16.108323 -30.415655  554.183316   \n",
       "\n",
       "    cluster  \n",
       "9         1  \n",
       "15        1  "
      ]
     },
     "execution_count": 362,
     "metadata": {},
     "output_type": "execute_result"
    }
   ],
   "source": [
    "idx = np.random.choice(pop.index, 2)\n",
    "pop.iloc[idx]"
   ]
  },
  {
   "cell_type": "code",
   "execution_count": 431,
   "metadata": {},
   "outputs": [],
   "source": [
    "class Infection:\n",
    "    \n",
    "    configuration_defaults = {\n",
    "        'infection': {\n",
    "            'radius': 100,\n",
    "            'n_start':1,\n",
    "        }\n",
    "    }\n",
    "    \n",
    "    def setup(self, builder):\n",
    "        self.radius = builder.configuration.infection.radius\n",
    "        self.n_start = builder.configuration.infection.n_start\n",
    "\n",
    "        columns_created = ['infected']\n",
    "        builder.population.initializes_simulants(self.on_initialize_simulants, columns_created)\n",
    "        builder.event.register_listener('time_step', self.on_time_step)\n",
    "        self.population_view = builder.population.get_view(['x', 'y'] + columns_created)\n",
    "\n",
    "    def on_initialize_simulants(self, pop_data):\n",
    "        \n",
    "        infection = pd.DataFrame({\n",
    "            'infected': 0,\n",
    "        }, index= pop_data.index)\n",
    "        idx = np.random.choice(pop_data.index, self.n_start)\n",
    "        infection.loc[idx, 'infected'] = 1\n",
    "        self.population_view.update(infection)\n",
    "        \n",
    "    def on_time_step(self, event):\n",
    "        pop = self.population_view.get(event.index)\n",
    "\n",
    "        infected0 = pop.loc[pop.infected == 1].index.tolist()\n",
    "\n",
    "        tree = spatial.KDTree(pop[['x', 'y']])\n",
    "        pairs = tree.query_pairs(self.radius)\n",
    "        \n",
    "        infected1 = []\n",
    "        # Iterate over each pair of simulants that are close together.\n",
    "        for boid_1, boid_2 in tree.query_pairs(self.radius):\n",
    "            if any([boid_1 in infected, boid_2 in infected0]):\n",
    "                infected1 += [boid_1, boid_2]\n",
    "        \n",
    "        pop.loc[infected1, 'infected'] = 1\n",
    "       \n",
    "        self.population_view.update(pop)"
   ]
  },
  {
   "cell_type": "code",
   "execution_count": 425,
   "metadata": {},
   "outputs": [],
   "source": [
    "import os\n",
    "import shutil\n",
    "import imageio\n",
    "\n",
    "color_map = {0:'black', 1:'red', 2:'blue', 3:'yellow', 4:'green', 5:'brown', 6:'gray', 7:'orange'}\n",
    "\n",
    "\n",
    "class SaveFrames:\n",
    "     \"\"\"\n",
    "    Save one frame per step, that can then be assembled into GIF\n",
    "    This is a hack because MovieWriter doesn't seem to work on Windows\n",
    "    :param fname: the repo within which frames will be saved\n",
    "    :param plot_type: whether to plot color as cluster or infection\n",
    "    \"\"\"\n",
    "        \n",
    "    def __init__(self, fname, plot_type='infection'):\n",
    "        self.fname = fname\n",
    "        self.plot_type = plot_type\n",
    "        self.step = 1\n",
    "        self.path = f'images/{self.fname}'\n",
    "        shutil.rmtree(self.path, ignore_errors=True)\n",
    "        os.mkdir(self.path)\n",
    "            \n",
    "    def setup(self, builder):\n",
    "        self.width = builder.configuration.location.width\n",
    "        self.height = builder.configuration.location.height\n",
    "        builder.event.register_listener('time_step', self.on_time_step) #priority??? Before or after they actually move? \n",
    "        builder.event.register_listener('simulation_end', self.save_movie)\n",
    "        cols = ['x', 'y', 'vx', 'vy']\n",
    "        if self.plot_type == 'cluster':\n",
    "            cols.append('cluster')\n",
    "        elif self.plot_type == 'infection':\n",
    "            cols.append('infected')\n",
    "        self.population_view = builder.population.get_view(cols)\n",
    "        \n",
    "    def on_time_step(self, event):\n",
    "        pop = self.population_view.get(event.index)\n",
    "        if self.plot_type == 'cluster':\n",
    "            pop['color'] = pop.cluster.map(color_map)\n",
    "        elif self.plot_type == 'infection':\n",
    "            pop['color'] = pop.infected.map(color_map)\n",
    "        else:\n",
    "            raise AssertionError(f'{self.plot_type} not recognized')\n",
    "        \n",
    "        plt.clf()\n",
    "        self.plot_boids(pop)\n",
    "        \n",
    "        plt.savefig(f'{self.path}/step_{self.step}.png')\n",
    "        self.step += 1\n",
    "\n",
    "    def plot_boids(self, pop):\n",
    "        plt.figure(figsize=[12, 12])\n",
    "        plt.scatter(pop.x, pop.y, color=pop.color)\n",
    "        plt.quiver(pop.x, pop.y, pop.vx, pop.vy, color=pop.color, width=0.002)\n",
    "        plt.xlabel('x')\n",
    "        plt.ylabel('y')\n",
    "        plt.axis([0, self.width, 0, self.height])\n",
    "        \n",
    "    def save_movie(self, event):\n",
    "        # FIXME - this doesn't work - here's a hack to turn frames into gif after sim\n",
    "        # import imageio\n",
    "        # image_directory = 'images/test'\n",
    "        # images = [i for i in os.listdir(image_directory) if 'png' in i]\n",
    "        # images = [f'step_{i}.png' for i in range(1, len(images) + 1)]\n",
    "        # with imageio.get_writer(f'{image_directory}/movie.gif', mode='I', fps=2) as writer:\n",
    "        #     for i in images:\n",
    "        #         image = imageio.imread(f'{image_directory}/{i}', format='png')\n",
    "        #         writer.append_data(image)\n",
    "                \n",
    "        images = [i for i in os.listdir(self.path) if 'png' in i]\n",
    "        import pdb; pdb.set_trace()\n",
    "        with imageio.get_writer(f'{self.path}/movie.gif', mode='I', fps=2) as writer:\n",
    "            for i in images:\n",
    "                image = imageio.imread(f'{self.path}/{i}', format='png')\n",
    "                writer.append_data(image)\n",
    "        \n",
    "        \n",
    "# with MovieWriter('flock.gif') as mw:\n",
    "#     components = [Population(), Location(), Flock(), mw]\n",
    "#     sim = setup_simulation(components)\n",
    "#     sim.take_steps(20)"
   ]
  },
  {
   "cell_type": "code",
   "execution_count": 439,
   "metadata": {},
   "outputs": [],
   "source": [
    "class Observer:\n",
    "    def __init__(self, colname):\n",
    "        self.colname = colname\n",
    "#         self.step = 1\n",
    "        self.data = []\n",
    "            \n",
    "    def setup(self, builder):\n",
    "        builder.event.register_listener('time_step', self.on_time_step, priority = 9)\n",
    "        builder.event.register_listener('simulation_end', self.save_data)\n",
    "        self.population_view = builder.population.get_view([self.colname])\n",
    "        \n",
    "    def on_time_step(self, event):\n",
    "        pop = self.population_view.get(event.index)\n",
    "        self.data.append(pop[self.colname].mean())\n",
    "        \n",
    "    def save_data(self, event):\n",
    "        df = pd.DataFrame({\n",
    "            self.colname: self.data,\n",
    "        })\n",
    "        df.to_hdf(f'{self.colname}.hdf', key=colname)\n",
    "    "
   ]
  },
  {
   "cell_type": "code",
   "execution_count": 440,
   "metadata": {},
   "outputs": [],
   "source": [
    "from vivarium.interface import setup_simulation\n",
    "# from vivarium_examples.boids.population import Population\n",
    "\n",
    "components = [Population(), Location(), Infection(), FlockKMeans(), SaveFrames('test'), Observer('infected')] # SaveFrames('test'), FlockKMeans(), Infection()\n",
    "sim = setup_simulation(components)"
   ]
  },
  {
   "cell_type": "code",
   "execution_count": 441,
   "metadata": {},
   "outputs": [
    {
     "data": {
      "text/html": [
       "<div>\n",
       "<style scoped>\n",
       "    .dataframe tbody tr th:only-of-type {\n",
       "        vertical-align: middle;\n",
       "    }\n",
       "\n",
       "    .dataframe tbody tr th {\n",
       "        vertical-align: top;\n",
       "    }\n",
       "\n",
       "    .dataframe thead th {\n",
       "        text-align: right;\n",
       "    }\n",
       "</style>\n",
       "<table border=\"1\" class=\"dataframe\">\n",
       "  <thead>\n",
       "    <tr style=\"text-align: right;\">\n",
       "      <th></th>\n",
       "      <th>tracked</th>\n",
       "      <th>color</th>\n",
       "      <th>entrance_time</th>\n",
       "      <th>y</th>\n",
       "      <th>vx</th>\n",
       "      <th>vy</th>\n",
       "      <th>x</th>\n",
       "      <th>infected</th>\n",
       "      <th>cluster</th>\n",
       "    </tr>\n",
       "  </thead>\n",
       "  <tbody>\n",
       "    <tr>\n",
       "      <th>0</th>\n",
       "      <td>True</td>\n",
       "      <td>red</td>\n",
       "      <td>2005-07-01</td>\n",
       "      <td>5.776539</td>\n",
       "      <td>-17.321857</td>\n",
       "      <td>-18.138697</td>\n",
       "      <td>204.096330</td>\n",
       "      <td>0</td>\n",
       "      <td>1</td>\n",
       "    </tr>\n",
       "    <tr>\n",
       "      <th>1</th>\n",
       "      <td>True</td>\n",
       "      <td>blue</td>\n",
       "      <td>2005-07-01</td>\n",
       "      <td>868.026851</td>\n",
       "      <td>13.656344</td>\n",
       "      <td>-10.935059</td>\n",
       "      <td>139.132800</td>\n",
       "      <td>0</td>\n",
       "      <td>1</td>\n",
       "    </tr>\n",
       "    <tr>\n",
       "      <th>2</th>\n",
       "      <td>True</td>\n",
       "      <td>blue</td>\n",
       "      <td>2005-07-01</td>\n",
       "      <td>661.419805</td>\n",
       "      <td>-4.927853</td>\n",
       "      <td>3.469877</td>\n",
       "      <td>605.294023</td>\n",
       "      <td>0</td>\n",
       "      <td>1</td>\n",
       "    </tr>\n",
       "    <tr>\n",
       "      <th>3</th>\n",
       "      <td>True</td>\n",
       "      <td>red</td>\n",
       "      <td>2005-07-01</td>\n",
       "      <td>140.171551</td>\n",
       "      <td>-8.890379</td>\n",
       "      <td>-9.932011</td>\n",
       "      <td>773.422381</td>\n",
       "      <td>0</td>\n",
       "      <td>1</td>\n",
       "    </tr>\n",
       "    <tr>\n",
       "      <th>4</th>\n",
       "      <td>True</td>\n",
       "      <td>red</td>\n",
       "      <td>2005-07-01</td>\n",
       "      <td>447.550241</td>\n",
       "      <td>-3.208746</td>\n",
       "      <td>20.578428</td>\n",
       "      <td>496.388654</td>\n",
       "      <td>0</td>\n",
       "      <td>1</td>\n",
       "    </tr>\n",
       "  </tbody>\n",
       "</table>\n",
       "</div>"
      ],
      "text/plain": [
       "   tracked color entrance_time           y         vx         vy           x  \\\n",
       "0     True   red    2005-07-01    5.776539 -17.321857 -18.138697  204.096330   \n",
       "1     True  blue    2005-07-01  868.026851  13.656344 -10.935059  139.132800   \n",
       "2     True  blue    2005-07-01  661.419805  -4.927853   3.469877  605.294023   \n",
       "3     True   red    2005-07-01  140.171551  -8.890379  -9.932011  773.422381   \n",
       "4     True   red    2005-07-01  447.550241  -3.208746  20.578428  496.388654   \n",
       "\n",
       "   infected  cluster  \n",
       "0         0        1  \n",
       "1         0        1  \n",
       "2         0        1  \n",
       "3         0        1  \n",
       "4         0        1  "
      ]
     },
     "execution_count": 441,
     "metadata": {},
     "output_type": "execute_result"
    }
   ],
   "source": [
    "pop = sim.population.population\n",
    "pop.head()"
   ]
  },
  {
   "cell_type": "code",
   "execution_count": 442,
   "metadata": {},
   "outputs": [
    {
     "data": {
      "application/vnd.jupyter.widget-view+json": {
       "model_id": "4119fd868310420c8a048adda74646bb",
       "version_major": 2,
       "version_minor": 0
      },
      "text/plain": [
       "VBox(children=(HTML(value=''), IntProgress(value=0, max=10)))"
      ]
     },
     "metadata": {},
     "output_type": "display_data"
    },
    {
     "data": {
      "text/plain": [
       "<Figure size 432x288 with 0 Axes>"
      ]
     },
     "metadata": {},
     "output_type": "display_data"
    },
    {
     "data": {
      "text/plain": [
       "<Figure size 864x864 with 0 Axes>"
      ]
     },
     "metadata": {},
     "output_type": "display_data"
    },
    {
     "data": {
      "text/plain": [
       "<Figure size 864x864 with 0 Axes>"
      ]
     },
     "metadata": {},
     "output_type": "display_data"
    },
    {
     "data": {
      "text/plain": [
       "<Figure size 864x864 with 0 Axes>"
      ]
     },
     "metadata": {},
     "output_type": "display_data"
    },
    {
     "data": {
      "text/plain": [
       "<Figure size 864x864 with 0 Axes>"
      ]
     },
     "metadata": {},
     "output_type": "display_data"
    },
    {
     "data": {
      "text/plain": [
       "<Figure size 864x864 with 0 Axes>"
      ]
     },
     "metadata": {},
     "output_type": "display_data"
    },
    {
     "data": {
      "text/plain": [
       "<Figure size 864x864 with 0 Axes>"
      ]
     },
     "metadata": {},
     "output_type": "display_data"
    },
    {
     "data": {
      "text/plain": [
       "<Figure size 864x864 with 0 Axes>"
      ]
     },
     "metadata": {},
     "output_type": "display_data"
    },
    {
     "data": {
      "text/plain": [
       "<Figure size 864x864 with 0 Axes>"
      ]
     },
     "metadata": {},
     "output_type": "display_data"
    },
    {
     "data": {
      "text/plain": [
       "<Figure size 864x864 with 0 Axes>"
      ]
     },
     "metadata": {},
     "output_type": "display_data"
    },
    {
     "data": {
      "image/png": "[encoded data removed]",
      "text/plain": [
       "<Figure size 864x864 with 1 Axes>"
      ]
     },
     "metadata": {
      "needs_background": "light"
     },
     "output_type": "display_data"
    }
   ],
   "source": [
    "sim.take_steps(10)"
   ]
  },
  {
   "cell_type": "code",
   "execution_count": 435,
   "metadata": {},
   "outputs": [],
   "source": [
    "import imageio\n",
    "image_directory = 'images/test'\n",
    "images = [i for i in os.listdir(image_directory) if 'png' in i]\n",
    "images = [f'step_{i}.png' for i in range(1,len(images)+1)]\n",
    "with imageio.get_writer(f'{image_directory}/movie.gif', mode='I', fps=2) as writer:\n",
    "    for i in images:\n",
    "        image = imageio.imread(f'{image_directory}/{i}', format='png')\n",
    "        writer.append_data(image)"
   ]
  },
  {
   "cell_type": "code",
   "execution_count": null,
   "metadata": {},
   "outputs": [],
   "source": []
  },
  {
   "cell_type": "code",
   "execution_count": 101,
   "metadata": {},
   "outputs": [],
   "source": [
    "import seaborn as sns\n",
    "def plot_birds(simulation, plot_velocity=True):\n",
    "    width = simulation.configuration.location.width\n",
    "    height = simulation.configuration.location.height\n",
    "    pop = simulation.population.population\n",
    "\n",
    "    plt.figure(figsize=[12, 12])\n",
    "    sns.scatterplot(pop.x, pop.y, hue=pop.cluster)\n",
    "    if plot_velocity:\n",
    "        plt.quiver(pop.x, pop.y, pop.vx, pop.vy, color=pop.cluster, width=0.002)\n",
    "    plt.xlabel('x')\n",
    "    plt.ylabel('y')\n",
    "    plt.axis([0, width, 0, height])\n",
    "    plt.show()"
   ]
  },
  {
   "cell_type": "code",
   "execution_count": 257,
   "metadata": {},
   "outputs": [
    {
     "ename": "AttributeError",
     "evalue": "'DataFrame' object has no attribute 'cluster'",
     "output_type": "error",
     "traceback": [
      "\u001b[1;31m---------------------------------------------------------------------------\u001b[0m",
      "\u001b[1;31mAttributeError\u001b[0m                            Traceback (most recent call last)",
      "\u001b[1;32m<ipython-input-257-4f0ebf23dcf0>\u001b[0m in \u001b[0;36m<module>\u001b[1;34m\u001b[0m\n\u001b[0;32m      1\u001b[0m \u001b[0mpop\u001b[0m \u001b[1;33m=\u001b[0m \u001b[0msim\u001b[0m\u001b[1;33m.\u001b[0m\u001b[0mpopulation\u001b[0m\u001b[1;33m.\u001b[0m\u001b[0mpopulation\u001b[0m\u001b[1;33m\u001b[0m\u001b[1;33m\u001b[0m\u001b[0m\n\u001b[1;32m----> 2\u001b[1;33m \u001b[0mpop\u001b[0m\u001b[1;33m[\u001b[0m\u001b[1;34m'color'\u001b[0m\u001b[1;33m]\u001b[0m \u001b[1;33m=\u001b[0m \u001b[0mpop\u001b[0m\u001b[1;33m.\u001b[0m\u001b[0mcluster\u001b[0m\u001b[1;33m.\u001b[0m\u001b[0mmap\u001b[0m\u001b[1;33m(\u001b[0m\u001b[0mcolor_map\u001b[0m\u001b[1;33m)\u001b[0m\u001b[1;33m\u001b[0m\u001b[1;33m\u001b[0m\u001b[0m\n\u001b[0m\u001b[0;32m      3\u001b[0m \u001b[0mpop\u001b[0m\u001b[1;33m[\u001b[0m\u001b[1;34m'color'\u001b[0m\u001b[1;33m]\u001b[0m \u001b[1;33m=\u001b[0m \u001b[0mpop\u001b[0m\u001b[1;33m.\u001b[0m\u001b[0mcluster\u001b[0m\u001b[1;33m.\u001b[0m\u001b[0mmap\u001b[0m\u001b[1;33m(\u001b[0m\u001b[0mcolor_map\u001b[0m\u001b[1;33m)\u001b[0m\u001b[1;33m\u001b[0m\u001b[1;33m\u001b[0m\u001b[0m\n\u001b[0;32m      4\u001b[0m \u001b[0mplt\u001b[0m\u001b[1;33m.\u001b[0m\u001b[0mscatter\u001b[0m\u001b[1;33m(\u001b[0m\u001b[0mpop\u001b[0m\u001b[1;33m.\u001b[0m\u001b[0mx\u001b[0m\u001b[1;33m,\u001b[0m \u001b[0mpop\u001b[0m\u001b[1;33m.\u001b[0m\u001b[0my\u001b[0m\u001b[1;33m,\u001b[0m \u001b[0mcolor\u001b[0m\u001b[1;33m=\u001b[0m\u001b[0mpop\u001b[0m\u001b[1;33m.\u001b[0m\u001b[0mcolor\u001b[0m\u001b[1;33m)\u001b[0m\u001b[1;33m\u001b[0m\u001b[1;33m\u001b[0m\u001b[0m\n\u001b[0;32m      5\u001b[0m \u001b[0mplt\u001b[0m\u001b[1;33m.\u001b[0m\u001b[0mquiver\u001b[0m\u001b[1;33m(\u001b[0m\u001b[0mpop\u001b[0m\u001b[1;33m.\u001b[0m\u001b[0mx\u001b[0m\u001b[1;33m,\u001b[0m \u001b[0mpop\u001b[0m\u001b[1;33m.\u001b[0m\u001b[0my\u001b[0m\u001b[1;33m,\u001b[0m \u001b[0mpop\u001b[0m\u001b[1;33m.\u001b[0m\u001b[0mvx\u001b[0m\u001b[1;33m,\u001b[0m \u001b[0mpop\u001b[0m\u001b[1;33m.\u001b[0m\u001b[0mvy\u001b[0m\u001b[1;33m,\u001b[0m \u001b[0mcolor\u001b[0m\u001b[1;33m=\u001b[0m\u001b[0mpop\u001b[0m\u001b[1;33m.\u001b[0m\u001b[0mcolor\u001b[0m\u001b[1;33m,\u001b[0m \u001b[0mwidth\u001b[0m\u001b[1;33m=\u001b[0m\u001b[1;36m0.002\u001b[0m\u001b[1;33m)\u001b[0m\u001b[1;33m\u001b[0m\u001b[1;33m\u001b[0m\u001b[0m\n",
      "\u001b[1;32mc:\\users\\zrankin\\appdata\\local\\continuum\\miniconda3\\envs\\vivarium\\lib\\site-packages\\pandas-0.23.4-py3.6-win-amd64.egg\\pandas\\core\\generic.py\u001b[0m in \u001b[0;36m__getattr__\u001b[1;34m(self, name)\u001b[0m\n\u001b[0;32m   4374\u001b[0m             \u001b[1;32mif\u001b[0m \u001b[0mself\u001b[0m\u001b[1;33m.\u001b[0m\u001b[0m_info_axis\u001b[0m\u001b[1;33m.\u001b[0m\u001b[0m_can_hold_identifiers_and_holds_name\u001b[0m\u001b[1;33m(\u001b[0m\u001b[0mname\u001b[0m\u001b[1;33m)\u001b[0m\u001b[1;33m:\u001b[0m\u001b[1;33m\u001b[0m\u001b[1;33m\u001b[0m\u001b[0m\n\u001b[0;32m   4375\u001b[0m                 \u001b[1;32mreturn\u001b[0m \u001b[0mself\u001b[0m\u001b[1;33m[\u001b[0m\u001b[0mname\u001b[0m\u001b[1;33m]\u001b[0m\u001b[1;33m\u001b[0m\u001b[1;33m\u001b[0m\u001b[0m\n\u001b[1;32m-> 4376\u001b[1;33m             \u001b[1;32mreturn\u001b[0m \u001b[0mobject\u001b[0m\u001b[1;33m.\u001b[0m\u001b[0m__getattribute__\u001b[0m\u001b[1;33m(\u001b[0m\u001b[0mself\u001b[0m\u001b[1;33m,\u001b[0m \u001b[0mname\u001b[0m\u001b[1;33m)\u001b[0m\u001b[1;33m\u001b[0m\u001b[1;33m\u001b[0m\u001b[0m\n\u001b[0m\u001b[0;32m   4377\u001b[0m \u001b[1;33m\u001b[0m\u001b[0m\n\u001b[0;32m   4378\u001b[0m     \u001b[1;32mdef\u001b[0m \u001b[0m__setattr__\u001b[0m\u001b[1;33m(\u001b[0m\u001b[0mself\u001b[0m\u001b[1;33m,\u001b[0m \u001b[0mname\u001b[0m\u001b[1;33m,\u001b[0m \u001b[0mvalue\u001b[0m\u001b[1;33m)\u001b[0m\u001b[1;33m:\u001b[0m\u001b[1;33m\u001b[0m\u001b[1;33m\u001b[0m\u001b[0m\n",
      "\u001b[1;31mAttributeError\u001b[0m: 'DataFrame' object has no attribute 'cluster'"
     ]
    }
   ],
   "source": [
    "pop = sim.population.population\n",
    "pop['color'] = pop.cluster.map(color_map)\n",
    "pop['color'] = pop.cluster.map(color_map)\n",
    "plt.scatter(pop.x, pop.y, color=pop.color)\n",
    "plt.quiver(pop.x, pop.y, pop.vx, pop.vy, color=pop.color, width=0.002)"
   ]
  },
  {
   "cell_type": "code",
   "execution_count": null,
   "metadata": {},
   "outputs": [],
   "source": []
  },
  {
   "cell_type": "code",
   "execution_count": 256,
   "metadata": {},
   "outputs": [],
   "source": [
    "from vivarium.interface import setup_simulation\n",
    "# from vivarium_examples.boids.population import Population\n",
    "\n",
    "components = [Population(), Location(), Flock()]\n",
    "sim = setup_simulation(components)"
   ]
  },
  {
   "cell_type": "code",
   "execution_count": 214,
   "metadata": {},
   "outputs": [
    {
     "data": {
      "image/png": "[encoded data removed]",
      "text/plain": [
       "<Figure size 864x864 with 1 Axes>"
      ]
     },
     "metadata": {},
     "output_type": "display_data"
    }
   ],
   "source": [
    "plot_birds(sim, plot_velocity=True)"
   ]
  },
  {
   "cell_type": "code",
   "execution_count": 215,
   "metadata": {},
   "outputs": [
    {
     "data": {
      "application/vnd.jupyter.widget-view+json": {
       "model_id": "eb59d43bc1a04d89a7cdc1a48515c1b9",
       "version_major": 2,
       "version_minor": 0
      },
      "text/plain": [
       "VBox(children=(HTML(value=''), IntProgress(value=0, max=1)))"
      ]
     },
     "metadata": {},
     "output_type": "display_data"
    }
   ],
   "source": [
    "sim.take_steps(1)"
   ]
  },
  {
   "cell_type": "code",
   "execution_count": 57,
   "metadata": {},
   "outputs": [
    {
     "data": {
      "image/png": "[encoded data removed]",
      "text/plain": [
       "<Figure size 432x288 with 1 Axes>"
      ]
     },
     "metadata": {},
     "output_type": "display_data"
    }
   ],
   "source": [
    "import seaborn as sns\n",
    "def my_plot(df):\n",
    "    # is there an easy way to plot the velocities?\n",
    "#     xx = []\n",
    "#     yy = []\n",
    "#     for i in df.index:\n",
    "#         xx += [df.x[i], df.x[i]+df.vx[i], np.nan]\n",
    "#         yy += [df.y[i], df.y[i]+df.vy[i], np.nan]\n",
    "\n",
    "#     plt.plot(xx, yy, sns.xkcd_rgb['light blue'])\n",
    "#     plt.scatter(df.x, df.y)\n",
    "\n",
    "#     plt.figure(figsize=[12, 12])\n",
    "    plt.scatter(df.x, df.y, color=df.color)\n",
    "    plt.quiver(df.x, df.y, df.vx, df.vy, color=df.color, width=0.002)\n",
    "    plt.xlabel('x')\n",
    "    plt.ylabel('y')\n",
    "#     plt.axis([0, self.width, 0, self.height])\n",
    "\n",
    "my_plot(sim.population.population)"
   ]
  },
  {
   "cell_type": "code",
   "execution_count": 84,
   "metadata": {},
   "outputs": [
    {
     "ename": "OSError",
     "evalue": "[WinError 87] The parameter is incorrect",
     "output_type": "error",
     "traceback": [
      "\u001b[1;31m---------------------------------------------------------------------------\u001b[0m",
      "\u001b[1;31mOSError\u001b[0m                                   Traceback (most recent call last)",
      "\u001b[1;32m<ipython-input-84-229e27128993>\u001b[0m in \u001b[0;36m<module>\u001b[1;34m\u001b[0m\n\u001b[0;32m     51\u001b[0m         \u001b[0mself\u001b[0m\u001b[1;33m.\u001b[0m\u001b[0mmoviewriter\u001b[0m\u001b[1;33m.\u001b[0m\u001b[0mfinish\u001b[0m\u001b[1;33m(\u001b[0m\u001b[1;33m)\u001b[0m\u001b[1;33m\u001b[0m\u001b[1;33m\u001b[0m\u001b[0m\n\u001b[0;32m     52\u001b[0m \u001b[1;33m\u001b[0m\u001b[0m\n\u001b[1;32m---> 53\u001b[1;33m \u001b[1;32mwith\u001b[0m \u001b[0mMovieWriter\u001b[0m\u001b[1;33m(\u001b[0m\u001b[1;34m'flock.gif'\u001b[0m\u001b[1;33m)\u001b[0m \u001b[1;32mas\u001b[0m \u001b[0mmw\u001b[0m\u001b[1;33m:\u001b[0m\u001b[1;33m\u001b[0m\u001b[1;33m\u001b[0m\u001b[0m\n\u001b[0m\u001b[0;32m     54\u001b[0m     \u001b[0mcomponents\u001b[0m \u001b[1;33m=\u001b[0m \u001b[1;33m[\u001b[0m\u001b[0mPopulation\u001b[0m\u001b[1;33m(\u001b[0m\u001b[1;33m)\u001b[0m\u001b[1;33m,\u001b[0m \u001b[0mLocation\u001b[0m\u001b[1;33m(\u001b[0m\u001b[1;33m)\u001b[0m\u001b[1;33m,\u001b[0m \u001b[0mFlock\u001b[0m\u001b[1;33m(\u001b[0m\u001b[1;33m)\u001b[0m\u001b[1;33m,\u001b[0m \u001b[0mmw\u001b[0m\u001b[1;33m]\u001b[0m\u001b[1;33m\u001b[0m\u001b[1;33m\u001b[0m\u001b[0m\n\u001b[0;32m     55\u001b[0m     \u001b[0msim\u001b[0m \u001b[1;33m=\u001b[0m \u001b[0msetup_simulation\u001b[0m\u001b[1;33m(\u001b[0m\u001b[0mcomponents\u001b[0m\u001b[1;33m)\u001b[0m\u001b[1;33m\u001b[0m\u001b[1;33m\u001b[0m\u001b[0m\n",
      "\u001b[1;32m<ipython-input-84-229e27128993>\u001b[0m in \u001b[0;36m__enter__\u001b[1;34m(self)\u001b[0m\n\u001b[0;32m     10\u001b[0m     \u001b[1;32mdef\u001b[0m \u001b[0m__enter__\u001b[0m\u001b[1;33m(\u001b[0m\u001b[0mself\u001b[0m\u001b[1;33m)\u001b[0m\u001b[1;33m:\u001b[0m\u001b[1;33m\u001b[0m\u001b[1;33m\u001b[0m\u001b[0m\n\u001b[0;32m     11\u001b[0m         \u001b[0mfig\u001b[0m \u001b[1;33m=\u001b[0m \u001b[0mplt\u001b[0m\u001b[1;33m.\u001b[0m\u001b[0mfigure\u001b[0m\u001b[1;33m(\u001b[0m\u001b[1;33m)\u001b[0m\u001b[1;33m\u001b[0m\u001b[1;33m\u001b[0m\u001b[0m\n\u001b[1;32m---> 12\u001b[1;33m         \u001b[0mself\u001b[0m\u001b[1;33m.\u001b[0m\u001b[0mmoviewriter\u001b[0m\u001b[1;33m.\u001b[0m\u001b[0msetup\u001b[0m\u001b[1;33m(\u001b[0m\u001b[0mfig\u001b[0m\u001b[1;33m,\u001b[0m \u001b[0mself\u001b[0m\u001b[1;33m.\u001b[0m\u001b[0mfname\u001b[0m\u001b[1;33m,\u001b[0m \u001b[0mdpi\u001b[0m\u001b[1;33m=\u001b[0m\u001b[1;36m100\u001b[0m\u001b[1;33m)\u001b[0m\u001b[1;33m\u001b[0m\u001b[1;33m\u001b[0m\u001b[0m\n\u001b[0m\u001b[0;32m     13\u001b[0m         \u001b[1;32mreturn\u001b[0m \u001b[0mself\u001b[0m\u001b[1;33m\u001b[0m\u001b[1;33m\u001b[0m\u001b[0m\n\u001b[0;32m     14\u001b[0m \u001b[1;33m\u001b[0m\u001b[0m\n",
      "\u001b[1;32mc:\\users\\zrankin\\appdata\\local\\continuum\\miniconda3\\envs\\vivarium\\lib\\site-packages\\matplotlib\\animation.py\u001b[0m in \u001b[0;36msetup\u001b[1;34m(self, fig, outfile, dpi)\u001b[0m\n\u001b[0;32m    340\u001b[0m         \u001b[1;31m# Run here so that grab_frame() can write the data to a pipe. This\u001b[0m\u001b[1;33m\u001b[0m\u001b[1;33m\u001b[0m\u001b[1;33m\u001b[0m\u001b[0m\n\u001b[0;32m    341\u001b[0m         \u001b[1;31m# eliminates the need for temp files.\u001b[0m\u001b[1;33m\u001b[0m\u001b[1;33m\u001b[0m\u001b[1;33m\u001b[0m\u001b[0m\n\u001b[1;32m--> 342\u001b[1;33m         \u001b[0mself\u001b[0m\u001b[1;33m.\u001b[0m\u001b[0m_run\u001b[0m\u001b[1;33m(\u001b[0m\u001b[1;33m)\u001b[0m\u001b[1;33m\u001b[0m\u001b[1;33m\u001b[0m\u001b[0m\n\u001b[0m\u001b[0;32m    343\u001b[0m \u001b[1;33m\u001b[0m\u001b[0m\n\u001b[0;32m    344\u001b[0m     \u001b[1;32mdef\u001b[0m \u001b[0m_run\u001b[0m\u001b[1;33m(\u001b[0m\u001b[0mself\u001b[0m\u001b[1;33m)\u001b[0m\u001b[1;33m:\u001b[0m\u001b[1;33m\u001b[0m\u001b[1;33m\u001b[0m\u001b[0m\n",
      "\u001b[1;32mc:\\users\\zrankin\\appdata\\local\\continuum\\miniconda3\\envs\\vivarium\\lib\\site-packages\\matplotlib\\animation.py\u001b[0m in \u001b[0;36m_run\u001b[1;34m(self)\u001b[0m\n\u001b[0;32m    352\u001b[0m                                       \u001b[0mstdout\u001b[0m\u001b[1;33m=\u001b[0m\u001b[0moutput\u001b[0m\u001b[1;33m,\u001b[0m \u001b[0mstderr\u001b[0m\u001b[1;33m=\u001b[0m\u001b[0moutput\u001b[0m\u001b[1;33m,\u001b[0m\u001b[1;33m\u001b[0m\u001b[1;33m\u001b[0m\u001b[0m\n\u001b[0;32m    353\u001b[0m                                       \u001b[0mstdin\u001b[0m\u001b[1;33m=\u001b[0m\u001b[0msubprocess\u001b[0m\u001b[1;33m.\u001b[0m\u001b[0mPIPE\u001b[0m\u001b[1;33m,\u001b[0m\u001b[1;33m\u001b[0m\u001b[1;33m\u001b[0m\u001b[0m\n\u001b[1;32m--> 354\u001b[1;33m                                       creationflags=subprocess_creation_flags)\n\u001b[0m\u001b[0;32m    355\u001b[0m \u001b[1;33m\u001b[0m\u001b[0m\n\u001b[0;32m    356\u001b[0m     \u001b[1;32mdef\u001b[0m \u001b[0mfinish\u001b[0m\u001b[1;33m(\u001b[0m\u001b[0mself\u001b[0m\u001b[1;33m)\u001b[0m\u001b[1;33m:\u001b[0m\u001b[1;33m\u001b[0m\u001b[1;33m\u001b[0m\u001b[0m\n",
      "\u001b[1;32mc:\\users\\zrankin\\appdata\\local\\continuum\\miniconda3\\envs\\vivarium\\lib\\subprocess.py\u001b[0m in \u001b[0;36m__init__\u001b[1;34m(self, args, bufsize, executable, stdin, stdout, stderr, preexec_fn, close_fds, shell, cwd, env, universal_newlines, startupinfo, creationflags, restore_signals, start_new_session, pass_fds, encoding, errors)\u001b[0m\n\u001b[0;32m    707\u001b[0m                                 \u001b[0mc2pread\u001b[0m\u001b[1;33m,\u001b[0m \u001b[0mc2pwrite\u001b[0m\u001b[1;33m,\u001b[0m\u001b[1;33m\u001b[0m\u001b[1;33m\u001b[0m\u001b[0m\n\u001b[0;32m    708\u001b[0m                                 \u001b[0merrread\u001b[0m\u001b[1;33m,\u001b[0m \u001b[0merrwrite\u001b[0m\u001b[1;33m,\u001b[0m\u001b[1;33m\u001b[0m\u001b[1;33m\u001b[0m\u001b[0m\n\u001b[1;32m--> 709\u001b[1;33m                                 restore_signals, start_new_session)\n\u001b[0m\u001b[0;32m    710\u001b[0m         \u001b[1;32mexcept\u001b[0m\u001b[1;33m:\u001b[0m\u001b[1;33m\u001b[0m\u001b[1;33m\u001b[0m\u001b[0m\n\u001b[0;32m    711\u001b[0m             \u001b[1;31m# Cleanup if the child failed starting.\u001b[0m\u001b[1;33m\u001b[0m\u001b[1;33m\u001b[0m\u001b[1;33m\u001b[0m\u001b[0m\n",
      "\u001b[1;32mc:\\users\\zrankin\\appdata\\local\\continuum\\miniconda3\\envs\\vivarium\\lib\\subprocess.py\u001b[0m in \u001b[0;36m_execute_child\u001b[1;34m(self, args, executable, preexec_fn, close_fds, pass_fds, cwd, env, startupinfo, creationflags, shell, p2cread, p2cwrite, c2pread, c2pwrite, errread, errwrite, unused_restore_signals, unused_start_new_session)\u001b[0m\n\u001b[0;32m    995\u001b[0m                                          \u001b[0menv\u001b[0m\u001b[1;33m,\u001b[0m\u001b[1;33m\u001b[0m\u001b[1;33m\u001b[0m\u001b[0m\n\u001b[0;32m    996\u001b[0m                                          \u001b[0mos\u001b[0m\u001b[1;33m.\u001b[0m\u001b[0mfspath\u001b[0m\u001b[1;33m(\u001b[0m\u001b[0mcwd\u001b[0m\u001b[1;33m)\u001b[0m \u001b[1;32mif\u001b[0m \u001b[0mcwd\u001b[0m \u001b[1;32mis\u001b[0m \u001b[1;32mnot\u001b[0m \u001b[1;32mNone\u001b[0m \u001b[1;32melse\u001b[0m \u001b[1;32mNone\u001b[0m\u001b[1;33m,\u001b[0m\u001b[1;33m\u001b[0m\u001b[1;33m\u001b[0m\u001b[0m\n\u001b[1;32m--> 997\u001b[1;33m                                          startupinfo)\n\u001b[0m\u001b[0;32m    998\u001b[0m             \u001b[1;32mfinally\u001b[0m\u001b[1;33m:\u001b[0m\u001b[1;33m\u001b[0m\u001b[1;33m\u001b[0m\u001b[0m\n\u001b[0;32m    999\u001b[0m                 \u001b[1;31m# Child is launched. Close the parent's copy of those pipe\u001b[0m\u001b[1;33m\u001b[0m\u001b[1;33m\u001b[0m\u001b[1;33m\u001b[0m\u001b[0m\n",
      "\u001b[1;31mOSError\u001b[0m: [WinError 87] The parameter is incorrect"
     ]
    },
    {
     "data": {
      "text/plain": [
       "<Figure size 432x288 with 0 Axes>"
      ]
     },
     "metadata": {},
     "output_type": "display_data"
    }
   ],
   "source": [
    "from matplotlib import animation\n",
    "\n",
    "\n",
    "\n",
    "class MovieWriter\n",
    "    \"\"\"\n",
    "    Saves a gif of simulation\n",
    "    NOTE - doesn't seem to work on Windows\n",
    "    Usage: \n",
    "    with MovieWriter('flock.gif') as mw:\n",
    "        components = [Population(), Location(), Flock(), mw]\n",
    "        sim = setup_simulation(components)\n",
    "        sim.take_steps(20)\n",
    "    \"\"\"\n",
    "\n",
    "    def __init__(self, fname):\n",
    "        self.moviewriter = animation.ImageMagickWriter(fps=2)\n",
    "        self.fname = fname\n",
    "            \n",
    "    def __enter__(self):\n",
    "        fig = plt.figure()\n",
    "        self.moviewriter.setup(fig, self.fname, dpi=100)\n",
    "        return self\n",
    "    \n",
    "    def setup(self, builder):\n",
    "        self.width = builder.configuration.location.width\n",
    "        self.height = builder.configuration.location.height\n",
    "        builder.event.register_listener('time_step', self.on_time_step)\n",
    "        self.population_view = builder.population.get_view(['x', 'y', 'vx', 'vy', 'color'])\n",
    "        \n",
    "    def on_time_step(self, event):\n",
    "        pop = self.population_view.get(event.index)\n",
    "        \n",
    "        plt.clf()\n",
    "        self.plot_boids(pop)\n",
    "        \n",
    "        self.moviewriter.grab_frame()\n",
    "\n",
    "    def plot_boids(self, pop):\n",
    "#         plt.figure(figsize=[12, 12])\n",
    "        plt.scatter(pop.x, pop.y, color=pop.color)\n",
    "        plt.quiver(pop.x, pop.y, pop.vx, pop.vy, color=pop.color, width=0.002)\n",
    "        plt.xlabel('x')\n",
    "        plt.ylabel('y')\n",
    "        plt.axis([0, self.width, 0, self.height])\n",
    "        \n",
    "    def __exit__(self, exception_type, exception_value, traceback):\n",
    "        self.moviewriter.finish()\n",
    "\n",
    "with MovieWriter('flock.gif') as mw:\n",
    "    components = [Population(), Location(), Flock(), mw]\n",
    "    sim = setup_simulation(components)\n",
    "    sim.take_steps(20)"
   ]
  },
  {
   "cell_type": "code",
   "execution_count": 130,
   "metadata": {},
   "outputs": [
    {
     "data": {
      "text/html": [
       "<img src=\"flock.gif\">"
      ],
      "text/plain": [
       "<IPython.core.display.HTML object>"
      ]
     },
     "execution_count": 130,
     "metadata": {},
     "output_type": "execute_result"
    }
   ],
   "source": [
    "HTML('<img src=\"flock.gif\">')"
   ]
  },
  {
   "cell_type": "code",
   "execution_count": 85,
   "metadata": {},
   "outputs": [
    {
     "ename": "OSError",
     "evalue": "[WinError 87] The parameter is incorrect",
     "output_type": "error",
     "traceback": [
      "\u001b[1;31m---------------------------------------------------------------------------\u001b[0m",
      "\u001b[1;31mOSError\u001b[0m                                   Traceback (most recent call last)",
      "\u001b[1;32m<ipython-input-85-1ddb708da37a>\u001b[0m in \u001b[0;36m<module>\u001b[1;34m\u001b[0m\n\u001b[0;32m      9\u001b[0m \u001b[0mmoviewriter\u001b[0m \u001b[1;33m=\u001b[0m \u001b[0manimation\u001b[0m\u001b[1;33m.\u001b[0m\u001b[0mImageMagickWriter\u001b[0m\u001b[1;33m(\u001b[0m\u001b[0mfps\u001b[0m\u001b[1;33m=\u001b[0m\u001b[1;36m1\u001b[0m\u001b[1;33m)\u001b[0m\u001b[1;33m\u001b[0m\u001b[1;33m\u001b[0m\u001b[0m\n\u001b[0;32m     10\u001b[0m \u001b[0mfig\u001b[0m \u001b[1;33m=\u001b[0m \u001b[0mplt\u001b[0m\u001b[1;33m.\u001b[0m\u001b[0mfigure\u001b[0m\u001b[1;33m(\u001b[0m\u001b[1;33m)\u001b[0m\u001b[1;33m\u001b[0m\u001b[1;33m\u001b[0m\u001b[0m\n\u001b[1;32m---> 11\u001b[1;33m \u001b[0mmoviewriter\u001b[0m\u001b[1;33m.\u001b[0m\u001b[0msetup\u001b[0m\u001b[1;33m(\u001b[0m\u001b[0mfig\u001b[0m\u001b[1;33m,\u001b[0m \u001b[1;34m'test.gif'\u001b[0m\u001b[1;33m,\u001b[0m \u001b[0mdpi\u001b[0m\u001b[1;33m=\u001b[0m\u001b[1;36m100\u001b[0m\u001b[1;33m)\u001b[0m\u001b[1;33m\u001b[0m\u001b[1;33m\u001b[0m\u001b[0m\n\u001b[0m\u001b[0;32m     12\u001b[0m \u001b[1;32mfor\u001b[0m \u001b[0mi\u001b[0m \u001b[1;32min\u001b[0m \u001b[0mrange\u001b[0m\u001b[1;33m(\u001b[0m\u001b[1;36m0\u001b[0m\u001b[1;33m,\u001b[0m\u001b[1;36m10\u001b[0m\u001b[1;33m)\u001b[0m\u001b[1;33m:\u001b[0m\u001b[1;33m\u001b[0m\u001b[1;33m\u001b[0m\u001b[0m\n\u001b[0;32m     13\u001b[0m     \u001b[0mplt\u001b[0m\u001b[1;33m.\u001b[0m\u001b[0mclf\u001b[0m\u001b[1;33m(\u001b[0m\u001b[1;33m)\u001b[0m\u001b[1;33m\u001b[0m\u001b[1;33m\u001b[0m\u001b[0m\n",
      "\u001b[1;32mc:\\users\\zrankin\\appdata\\local\\continuum\\miniconda3\\envs\\vivarium\\lib\\site-packages\\matplotlib\\animation.py\u001b[0m in \u001b[0;36msetup\u001b[1;34m(self, fig, outfile, dpi)\u001b[0m\n\u001b[0;32m    340\u001b[0m         \u001b[1;31m# Run here so that grab_frame() can write the data to a pipe. This\u001b[0m\u001b[1;33m\u001b[0m\u001b[1;33m\u001b[0m\u001b[1;33m\u001b[0m\u001b[0m\n\u001b[0;32m    341\u001b[0m         \u001b[1;31m# eliminates the need for temp files.\u001b[0m\u001b[1;33m\u001b[0m\u001b[1;33m\u001b[0m\u001b[1;33m\u001b[0m\u001b[0m\n\u001b[1;32m--> 342\u001b[1;33m         \u001b[0mself\u001b[0m\u001b[1;33m.\u001b[0m\u001b[0m_run\u001b[0m\u001b[1;33m(\u001b[0m\u001b[1;33m)\u001b[0m\u001b[1;33m\u001b[0m\u001b[1;33m\u001b[0m\u001b[0m\n\u001b[0m\u001b[0;32m    343\u001b[0m \u001b[1;33m\u001b[0m\u001b[0m\n\u001b[0;32m    344\u001b[0m     \u001b[1;32mdef\u001b[0m \u001b[0m_run\u001b[0m\u001b[1;33m(\u001b[0m\u001b[0mself\u001b[0m\u001b[1;33m)\u001b[0m\u001b[1;33m:\u001b[0m\u001b[1;33m\u001b[0m\u001b[1;33m\u001b[0m\u001b[0m\n",
      "\u001b[1;32mc:\\users\\zrankin\\appdata\\local\\continuum\\miniconda3\\envs\\vivarium\\lib\\site-packages\\matplotlib\\animation.py\u001b[0m in \u001b[0;36m_run\u001b[1;34m(self)\u001b[0m\n\u001b[0;32m    352\u001b[0m                                       \u001b[0mstdout\u001b[0m\u001b[1;33m=\u001b[0m\u001b[0moutput\u001b[0m\u001b[1;33m,\u001b[0m \u001b[0mstderr\u001b[0m\u001b[1;33m=\u001b[0m\u001b[0moutput\u001b[0m\u001b[1;33m,\u001b[0m\u001b[1;33m\u001b[0m\u001b[1;33m\u001b[0m\u001b[0m\n\u001b[0;32m    353\u001b[0m                                       \u001b[0mstdin\u001b[0m\u001b[1;33m=\u001b[0m\u001b[0msubprocess\u001b[0m\u001b[1;33m.\u001b[0m\u001b[0mPIPE\u001b[0m\u001b[1;33m,\u001b[0m\u001b[1;33m\u001b[0m\u001b[1;33m\u001b[0m\u001b[0m\n\u001b[1;32m--> 354\u001b[1;33m                                       creationflags=subprocess_creation_flags)\n\u001b[0m\u001b[0;32m    355\u001b[0m \u001b[1;33m\u001b[0m\u001b[0m\n\u001b[0;32m    356\u001b[0m     \u001b[1;32mdef\u001b[0m \u001b[0mfinish\u001b[0m\u001b[1;33m(\u001b[0m\u001b[0mself\u001b[0m\u001b[1;33m)\u001b[0m\u001b[1;33m:\u001b[0m\u001b[1;33m\u001b[0m\u001b[1;33m\u001b[0m\u001b[0m\n",
      "\u001b[1;32mc:\\users\\zrankin\\appdata\\local\\continuum\\miniconda3\\envs\\vivarium\\lib\\subprocess.py\u001b[0m in \u001b[0;36m__init__\u001b[1;34m(self, args, bufsize, executable, stdin, stdout, stderr, preexec_fn, close_fds, shell, cwd, env, universal_newlines, startupinfo, creationflags, restore_signals, start_new_session, pass_fds, encoding, errors)\u001b[0m\n\u001b[0;32m    707\u001b[0m                                 \u001b[0mc2pread\u001b[0m\u001b[1;33m,\u001b[0m \u001b[0mc2pwrite\u001b[0m\u001b[1;33m,\u001b[0m\u001b[1;33m\u001b[0m\u001b[1;33m\u001b[0m\u001b[0m\n\u001b[0;32m    708\u001b[0m                                 \u001b[0merrread\u001b[0m\u001b[1;33m,\u001b[0m \u001b[0merrwrite\u001b[0m\u001b[1;33m,\u001b[0m\u001b[1;33m\u001b[0m\u001b[1;33m\u001b[0m\u001b[0m\n\u001b[1;32m--> 709\u001b[1;33m                                 restore_signals, start_new_session)\n\u001b[0m\u001b[0;32m    710\u001b[0m         \u001b[1;32mexcept\u001b[0m\u001b[1;33m:\u001b[0m\u001b[1;33m\u001b[0m\u001b[1;33m\u001b[0m\u001b[0m\n\u001b[0;32m    711\u001b[0m             \u001b[1;31m# Cleanup if the child failed starting.\u001b[0m\u001b[1;33m\u001b[0m\u001b[1;33m\u001b[0m\u001b[1;33m\u001b[0m\u001b[0m\n",
      "\u001b[1;32mc:\\users\\zrankin\\appdata\\local\\continuum\\miniconda3\\envs\\vivarium\\lib\\subprocess.py\u001b[0m in \u001b[0;36m_execute_child\u001b[1;34m(self, args, executable, preexec_fn, close_fds, pass_fds, cwd, env, startupinfo, creationflags, shell, p2cread, p2cwrite, c2pread, c2pwrite, errread, errwrite, unused_restore_signals, unused_start_new_session)\u001b[0m\n\u001b[0;32m    995\u001b[0m                                          \u001b[0menv\u001b[0m\u001b[1;33m,\u001b[0m\u001b[1;33m\u001b[0m\u001b[1;33m\u001b[0m\u001b[0m\n\u001b[0;32m    996\u001b[0m                                          \u001b[0mos\u001b[0m\u001b[1;33m.\u001b[0m\u001b[0mfspath\u001b[0m\u001b[1;33m(\u001b[0m\u001b[0mcwd\u001b[0m\u001b[1;33m)\u001b[0m \u001b[1;32mif\u001b[0m \u001b[0mcwd\u001b[0m \u001b[1;32mis\u001b[0m \u001b[1;32mnot\u001b[0m \u001b[1;32mNone\u001b[0m \u001b[1;32melse\u001b[0m \u001b[1;32mNone\u001b[0m\u001b[1;33m,\u001b[0m\u001b[1;33m\u001b[0m\u001b[1;33m\u001b[0m\u001b[0m\n\u001b[1;32m--> 997\u001b[1;33m                                          startupinfo)\n\u001b[0m\u001b[0;32m    998\u001b[0m             \u001b[1;32mfinally\u001b[0m\u001b[1;33m:\u001b[0m\u001b[1;33m\u001b[0m\u001b[1;33m\u001b[0m\u001b[0m\n\u001b[0;32m    999\u001b[0m                 \u001b[1;31m# Child is launched. Close the parent's copy of those pipe\u001b[0m\u001b[1;33m\u001b[0m\u001b[1;33m\u001b[0m\u001b[1;33m\u001b[0m\u001b[0m\n",
      "\u001b[1;31mOSError\u001b[0m: [WinError 87] The parameter is incorrect"
     ]
    },
    {
     "data": {
      "image/png": "[encoded data removed]",
      "text/plain": [
       "<Figure size 432x288 with 1 Axes>"
      ]
     },
     "metadata": {
      "needs_background": "light"
     },
     "output_type": "display_data"
    },
    {
     "data": {
      "text/plain": [
       "<Figure size 432x288 with 0 Axes>"
      ]
     },
     "metadata": {},
     "output_type": "display_data"
    }
   ],
   "source": [
    "from matplotlib.animation import FuncAnimation\n",
    "import matplotlib.pyplot as plt\n",
    "import numpy as np\n",
    "\n",
    "x = np.random.random(10)\n",
    "y = np.random.random(10)\n",
    "plt.scatter(x,y)\n",
    "\n",
    "moviewriter = animation.ImageMagickWriter(fps=1)\n",
    "fig = plt.figure()\n",
    "moviewriter.setup(fig, 'test.gif', dpi=100)\n",
    "for i in range(0,10):\n",
    "    plt.clf()\n",
    "    x = np.random.random(10)\n",
    "    y = np.random.random(10)\n",
    "    plt.scatter(x,y)\n",
    "    moviewriter.grab_frame()\n",
    "moviewriter.finish()"
   ]
  },
  {
   "cell_type": "code",
   "execution_count": 86,
   "metadata": {},
   "outputs": [],
   "source": [
    "moviewriter.setup?"
   ]
  },
  {
   "cell_type": "code",
   "execution_count": 213,
   "metadata": {},
   "outputs": [
    {
     "ename": "SyntaxError",
     "evalue": "invalid syntax (<ipython-input-213-4666b0676058>, line 1)",
     "output_type": "error",
     "traceback": [
      "\u001b[1;36m  File \u001b[1;32m\"<ipython-input-213-4666b0676058>\"\u001b[1;36m, line \u001b[1;32m1\u001b[0m\n\u001b[1;33m    with open('tempLog{0}.log'.format(os.getpid(),'w+') as f:\u001b[0m\n\u001b[1;37m                                                         ^\u001b[0m\n\u001b[1;31mSyntaxError\u001b[0m\u001b[1;31m:\u001b[0m invalid syntax\n"
     ]
    }
   ],
   "source": [
    "with open('tempLog{0}.log'.format(os.getpid(),'w+') as f:\n",
    "    subprocess.Popen(command, stdout=f, stderr=f)"
   ]
  },
  {
   "cell_type": "code",
   "execution_count": null,
   "metadata": {},
   "outputs": [],
   "source": []
  },
  {
   "cell_type": "code",
   "execution_count": 212,
   "metadata": {},
   "outputs": [],
   "source": [
    "moviewriter.setup?"
   ]
  },
  {
   "cell_type": "code",
   "execution_count": 201,
   "metadata": {},
   "outputs": [
    {
     "data": {
      "application/vnd.jupyter.widget-view+json": {
       "model_id": "dd69088050104a4f9ac9deed51f52079",
       "version_major": 2,
       "version_minor": 0
      },
      "text/plain": [
       "VBox(children=(HTML(value=''), IntProgress(value=0, max=10)))"
      ]
     },
     "metadata": {},
     "output_type": "display_data"
    }
   ],
   "source": [
    "sim.take_steps(10)"
   ]
  },
  {
   "cell_type": "code",
   "execution_count": 200,
   "metadata": {},
   "outputs": [],
   "source": [
    "mw = MovieWriter('t.gif')\n",
    "components = [Population(), Location(), mw]\n",
    "sim = setup_simulation(components)"
   ]
  },
  {
   "cell_type": "code",
   "execution_count": null,
   "metadata": {},
   "outputs": [],
   "source": []
  },
  {
   "cell_type": "code",
   "execution_count": 56,
   "metadata": {},
   "outputs": [],
   "source": [
    "pop = sim.population.population"
   ]
  },
  {
   "cell_type": "code",
   "execution_count": 57,
   "metadata": {},
   "outputs": [],
   "source": [
    "from scipy import spatial"
   ]
  },
  {
   "cell_type": "code",
   "execution_count": 58,
   "metadata": {},
   "outputs": [],
   "source": [
    "tree = spatial.KDTree(pop[['x', 'y']])"
   ]
  },
  {
   "cell_type": "code",
   "execution_count": 62,
   "metadata": {},
   "outputs": [
    {
     "data": {
      "text/plain": [
       "{(4, 26), (35, 95), (50, 61), (54, 97)}"
      ]
     },
     "execution_count": 62,
     "metadata": {},
     "output_type": "execute_result"
    }
   ],
   "source": [
    "tree.query_pairs(10)"
   ]
  },
  {
   "cell_type": "code",
   "execution_count": 63,
   "metadata": {},
   "outputs": [
    {
     "name": "stdout",
     "output_type": "stream",
     "text": [
      "4 26\n",
      "35 95\n",
      "54 97\n",
      "50 61\n"
     ]
    }
   ],
   "source": [
    "# Iterate over each pair of simulates that are close together.\n",
    "for boid_1, boid_2 in tree.query_pairs(10):\n",
    "    print(boid_1, boid_2)\n",
    "    # .iloc is used because query_pairs uses 0,1,... indexing instead of pandas.index\n",
    "#     self._neighbors.iloc[boid_1].append(self._neighbors.index[boid_2])\n",
    "#     self._neighbors.iloc[boid_2].append(self._neighbors.index[boid_1])"
   ]
  }
 ],
 "metadata": {
  "kernelspec": {
   "display_name": "Python 3",
   "language": "python",
   "name": "python3"
  },
  "language_info": {
   "codemirror_mode": {
    "name": "ipython",
    "version": 3
   },
   "file_extension": ".py",
   "mimetype": "text/x-python",
   "name": "python",
   "nbconvert_exporter": "python",
   "pygments_lexer": "ipython3",
   "version": "3.6.7"
  }
 },
 "nbformat": 4,
 "nbformat_minor": 2
}
